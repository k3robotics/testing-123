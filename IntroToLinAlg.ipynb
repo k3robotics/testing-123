{
  "nbformat": 4,
  "nbformat_minor": 0,
  "metadata": {
    "colab": {
      "provenance": [],
      "authorship_tag": "ABX9TyOSdChx8bYM2ezReIWRIpS7",
      "include_colab_link": true
    },
    "kernelspec": {
      "name": "python3",
      "display_name": "Python 3"
    },
    "language_info": {
      "name": "python"
    }
  },
  "cells": [
    {
      "cell_type": "markdown",
      "metadata": {
        "id": "view-in-github",
        "colab_type": "text"
      },
      "source": [
        "<a href=\"https://colab.research.google.com/github/k3robotics/testing-123/blob/main/IntroToLinAlg.ipynb\" target=\"_parent\"><img src=\"https://colab.research.google.com/assets/colab-badge.svg\" alt=\"Open In Colab\"/></a>"
      ]
    },
    {
      "cell_type": "markdown",
      "source": [
        "###*Machine Learning Foundations* - Intro to Linear Algebra"
      ],
      "metadata": {
        "id": "amh3_13jAM3S"
      }
    },
    {
      "cell_type": "markdown",
      "source": [
        "####Data Structures for Algebra"
      ],
      "metadata": {
        "id": "NoeFK6h2DLEq"
      }
    },
    {
      "cell_type": "markdown",
      "source": [
        "Scalars (Rank 0 Tensors) in Base Python"
      ],
      "metadata": {
        "id": "m-pHF645DaUa"
      }
    },
    {
      "cell_type": "code",
      "source": [
        "x = 25\n",
        "x"
      ],
      "metadata": {
        "id": "vN6wI55gAUyK",
        "colab": {
          "base_uri": "https://localhost:8080/"
        },
        "outputId": "6dd91d5d-50be-4023-fe49-ae936ba88265"
      },
      "execution_count": 11,
      "outputs": [
        {
          "output_type": "execute_result",
          "data": {
            "text/plain": [
              "25"
            ]
          },
          "metadata": {},
          "execution_count": 11
        }
      ]
    },
    {
      "cell_type": "code",
      "source": [
        "type(x) # if more specificity is needed (i.e., int16, unint8), use Numpy"
      ],
      "metadata": {
        "colab": {
          "base_uri": "https://localhost:8080/"
        },
        "id": "NTWZNogWDlgk",
        "outputId": "06b59155-f30e-4209-82df-1c351f203666"
      },
      "execution_count": 12,
      "outputs": [
        {
          "output_type": "execute_result",
          "data": {
            "text/plain": [
              "int"
            ]
          },
          "metadata": {},
          "execution_count": 12
        }
      ]
    },
    {
      "cell_type": "code",
      "source": [
        "y = 3"
      ],
      "metadata": {
        "id": "zeM2fVajD77K"
      },
      "execution_count": 13,
      "outputs": []
    },
    {
      "cell_type": "code",
      "source": [
        "# If you add an int and an int you get a type int as the result\n",
        "py_sum = x + y\n",
        "py_sum"
      ],
      "metadata": {
        "colab": {
          "base_uri": "https://localhost:8080/"
        },
        "id": "uOAp_bneEAaq",
        "outputId": "7ab29163-2c95-4f16-851d-8b309457d42b"
      },
      "execution_count": 14,
      "outputs": [
        {
          "output_type": "execute_result",
          "data": {
            "text/plain": [
              "28"
            ]
          },
          "metadata": {},
          "execution_count": 14
        }
      ]
    },
    {
      "cell_type": "code",
      "source": [
        "type(py_sum)"
      ],
      "metadata": {
        "colab": {
          "base_uri": "https://localhost:8080/"
        },
        "id": "8CUkAKGlK95t",
        "outputId": "e26a1e6e-6ccf-494c-90f3-5f2ff3bdbb51"
      },
      "execution_count": 15,
      "outputs": [
        {
          "output_type": "execute_result",
          "data": {
            "text/plain": [
              "int"
            ]
          },
          "metadata": {},
          "execution_count": 15
        }
      ]
    },
    {
      "cell_type": "code",
      "source": [
        "# If you add a float and an int you get a type float as the result\n",
        "x_float = 25.0\n",
        "float_sum = x_float + y\n",
        "float_sum"
      ],
      "metadata": {
        "colab": {
          "base_uri": "https://localhost:8080/"
        },
        "id": "Ly9kgRtrLCtM",
        "outputId": "8599167d-49fb-49cf-e95d-cec4ef602e22"
      },
      "execution_count": 16,
      "outputs": [
        {
          "output_type": "execute_result",
          "data": {
            "text/plain": [
              "28.0"
            ]
          },
          "metadata": {},
          "execution_count": 16
        }
      ]
    },
    {
      "cell_type": "code",
      "source": [
        "type(float_sum)"
      ],
      "metadata": {
        "colab": {
          "base_uri": "https://localhost:8080/"
        },
        "id": "5vQjZTPuMMLF",
        "outputId": "a064fb60-4feb-4438-cabd-cdd15962e377"
      },
      "execution_count": 17,
      "outputs": [
        {
          "output_type": "execute_result",
          "data": {
            "text/plain": [
              "float"
            ]
          },
          "metadata": {},
          "execution_count": 17
        }
      ]
    },
    {
      "cell_type": "markdown",
      "source": [
        "###Scalars in PyTorch\n",
        "\n",
        "*  PyTorch and Tensorflow are the two most popular *automatic differentiation libraries* in Python. Python, of couse, is the most popular programming language in Machine Learning (ML).\n",
        "\n",
        "*  PyTorch tensors are designed to be pythonic, i.e., to feel and behave like NumPy arrays.\n",
        "\n",
        "*  The advantage of PyTorch tensors relative to Numpy arrays is that they can be easily used for operations on GPUs."
      ],
      "metadata": {
        "id": "ubNd8GUwN5wc"
      }
    },
    {
      "cell_type": "code",
      "source": [
        "import torch"
      ],
      "metadata": {
        "id": "zvp4w9weMQkM"
      },
      "execution_count": 18,
      "outputs": []
    },
    {
      "cell_type": "code",
      "source": [
        "x_pt = torch.tensor(25) # type specification optional -> torch.tensor(25, dtype=torch.float16)\n",
        "x_pt"
      ],
      "metadata": {
        "colab": {
          "base_uri": "https://localhost:8080/"
        },
        "id": "zzbAX6akPmj9",
        "outputId": "31840cc8-b7ae-4a43-8850-01046a8f040b"
      },
      "execution_count": 19,
      "outputs": [
        {
          "output_type": "execute_result",
          "data": {
            "text/plain": [
              "tensor(25)"
            ]
          },
          "metadata": {},
          "execution_count": 19
        }
      ]
    },
    {
      "cell_type": "code",
      "source": [
        "x_pt.shape # 0 dimensions"
      ],
      "metadata": {
        "colab": {
          "base_uri": "https://localhost:8080/"
        },
        "id": "wc37R_0WT-63",
        "outputId": "fd213687-5bf7-4c5d-9be7-b73643946e8a"
      },
      "execution_count": 21,
      "outputs": [
        {
          "output_type": "execute_result",
          "data": {
            "text/plain": [
              "torch.Size([])"
            ]
          },
          "metadata": {},
          "execution_count": 21
        }
      ]
    },
    {
      "cell_type": "markdown",
      "source": [
        "#### Scalars in TensorFlow (v2.0 or later)\n",
        "\n",
        "Tensors created with a wrapper\n",
        "\n",
        "  *  `tf.Variable`\n",
        "  *  `tf.constant`\n",
        "  *  `tf.placeholder`\n",
        "  *  `tf.SparseTensor`\n",
        "\n",
        "The most commonly used is `tf.Variable`.\n",
        "\n",
        "Along with TF tensors, in PyTorch we can also perform operations and convert to and from NumPy arrays."
      ],
      "metadata": {
        "id": "wqgKifGjbUFG"
      }
    },
    {
      "cell_type": "code",
      "source": [
        "import tensorflow as tf"
      ],
      "metadata": {
        "id": "tJJjUGhCUMdu"
      },
      "execution_count": 22,
      "outputs": []
    },
    {
      "cell_type": "code",
      "source": [
        "x_tf = tf.Variable(25, dtype=tf.int16) # dtype is optional\n",
        "x_tf"
      ],
      "metadata": {
        "colab": {
          "base_uri": "https://localhost:8080/"
        },
        "id": "WRTGnI8kcabI",
        "outputId": "40ab4cad-9b89-44b8-d292-18f2c70d0829"
      },
      "execution_count": 23,
      "outputs": [
        {
          "output_type": "execute_result",
          "data": {
            "text/plain": [
              "<tf.Variable 'Variable:0' shape=() dtype=int16, numpy=25>"
            ]
          },
          "metadata": {},
          "execution_count": 23
        }
      ]
    },
    {
      "cell_type": "code",
      "source": [
        "x_tf.shape"
      ],
      "metadata": {
        "colab": {
          "base_uri": "https://localhost:8080/"
        },
        "id": "fHE_T6-Kco1_",
        "outputId": "cdd61b6f-0b66-42e0-ecae-d43f28cd60f1"
      },
      "execution_count": 24,
      "outputs": [
        {
          "output_type": "execute_result",
          "data": {
            "text/plain": [
              "TensorShape([])"
            ]
          },
          "metadata": {},
          "execution_count": 24
        }
      ]
    },
    {
      "cell_type": "code",
      "source": [
        "y_tf = tf.Variable(3, dtype=tf.int16)"
      ],
      "metadata": {
        "id": "rwnqeJVHc1hH"
      },
      "execution_count": 25,
      "outputs": []
    },
    {
      "cell_type": "code",
      "source": [
        "x_tf + y_tf # operator overload - being able to use base python `+` to add two tf tensors also(Numpy, PyTorch)"
      ],
      "metadata": {
        "colab": {
          "base_uri": "https://localhost:8080/"
        },
        "id": "6UAlnMLmc9Q4",
        "outputId": "79dfe4fb-3156-4c2e-d359-368b213ef34e"
      },
      "execution_count": 32,
      "outputs": [
        {
          "output_type": "execute_result",
          "data": {
            "text/plain": [
              "<tf.Tensor: shape=(), dtype=int16, numpy=28>"
            ]
          },
          "metadata": {},
          "execution_count": 32
        }
      ]
    },
    {
      "cell_type": "code",
      "source": [
        "tf_sum = tf.add(x_tf, y_tf)\n",
        "tf_sum"
      ],
      "metadata": {
        "colab": {
          "base_uri": "https://localhost:8080/"
        },
        "id": "fTnRhLNDdWiH",
        "outputId": "fe08ce85-a815-4e6b-c858-e9c5e774e0ec"
      },
      "execution_count": 27,
      "outputs": [
        {
          "output_type": "execute_result",
          "data": {
            "text/plain": [
              "<tf.Tensor: shape=(), dtype=int16, numpy=28>"
            ]
          },
          "metadata": {},
          "execution_count": 27
        }
      ]
    },
    {
      "cell_type": "code",
      "source": [
        "tf_sum.numpy() # Numpy operations automatically convert tensors to NumPy arrays and vice versa."
      ],
      "metadata": {
        "colab": {
          "base_uri": "https://localhost:8080/"
        },
        "id": "Ex3yAUXidhfO",
        "outputId": "7d785e34-97db-43bf-ea60-f5d1edb51444"
      },
      "execution_count": 28,
      "outputs": [
        {
          "output_type": "execute_result",
          "data": {
            "text/plain": [
              "28"
            ]
          },
          "metadata": {},
          "execution_count": 28
        }
      ]
    },
    {
      "cell_type": "code",
      "source": [
        "type(tf_sum.numpy())"
      ],
      "metadata": {
        "colab": {
          "base_uri": "https://localhost:8080/"
        },
        "id": "L0CKlCZeeEGB",
        "outputId": "fcf82e8b-7bff-403a-cf2f-b031a3f81c1b"
      },
      "execution_count": 29,
      "outputs": [
        {
          "output_type": "execute_result",
          "data": {
            "text/plain": [
              "numpy.int16"
            ]
          },
          "metadata": {},
          "execution_count": 29
        }
      ]
    },
    {
      "cell_type": "code",
      "source": [
        "tf_float = tf.Variable(25, dtype=tf.float16)\n",
        "tf_float"
      ],
      "metadata": {
        "colab": {
          "base_uri": "https://localhost:8080/"
        },
        "id": "-IdV4C6ZeJZA",
        "outputId": "a90c909c-cd16-4ecb-c5ea-6fdb344d00e2"
      },
      "execution_count": 30,
      "outputs": [
        {
          "output_type": "execute_result",
          "data": {
            "text/plain": [
              "<tf.Variable 'Variable:0' shape=() dtype=float16, numpy=25.0>"
            ]
          },
          "metadata": {},
          "execution_count": 30
        }
      ]
    },
    {
      "cell_type": "code",
      "source": [],
      "metadata": {
        "id": "TJjAuS9CevIg"
      },
      "execution_count": null,
      "outputs": []
    }
  ]
}